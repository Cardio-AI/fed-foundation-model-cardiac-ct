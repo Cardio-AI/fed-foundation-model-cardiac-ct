{
 "cells": [
  {
   "cell_type": "code",
   "execution_count": 1,
   "metadata": {},
   "outputs": [],
   "source": [
    "\n",
    "%matplotlib inline\n",
    "import numpy as np\n",
    "import matplotlib.pyplot as plt\n",
    "import seaborn as sns\n",
    "import pandas as pd\n",
    "sns.set()"
   ]
  },
  {
   "cell_type": "code",
   "execution_count": 2,
   "metadata": {},
   "outputs": [],
   "source": [
    "cases = {\n",
    "    'Heidelberg': {'HPs & CAs': 78, 'MS': 73, 'Calcification': 78, 'Total': 813},\n",
    "    'Munich': {'HPs & CAs': 30, 'MS': 0, 'Calcification': 20, 'Total': 1819},\n",
    "    'Muenster': {'HPs & CAs': 27, 'MS': 20, 'Calcification': 0, 'Total': 3001},\n",
    "    'Goettingen': {'HPs & CAs': 42, 'MS': 0, 'Calcification': 0, 'Total': 1829},\n",
    "    'Berlin': {'HPs & CAs': 0, 'MS': 0, 'Calcification': 0, 'Total': 534},\n",
    "    'Frankfurt': {'HPs & CAs': 20, 'MS': 0, 'Calcification': 20, 'Total': 42},\n",
    "    'Hamburg': {'HPs & CAs': 34, 'MS': 23, 'Calcification': 0, 'Total': 60},\n",
    "    'Greifswald': {'HPs & CAs': 25, 'MS': 0, 'Calcification': 0, 'Total': 26},\n",
    "}"
   ]
  },
  {
   "cell_type": "code",
   "execution_count": 3,
   "metadata": {},
   "outputs": [
    {
     "name": "stderr",
     "output_type": "stream",
     "text": [
      "/tmp/ipykernel_164272/1440658890.py:2: UserWarning: Pandas doesn't allow columns to be created via a new attribute name - see https://pandas.pydata.org/pandas-docs/stable/indexing.html#attribute-access\n",
      "  df.location = df.index\n"
     ]
    },
    {
     "data": {
      "text/html": [
       "<div>\n",
       "<style scoped>\n",
       "    .dataframe tbody tr th:only-of-type {\n",
       "        vertical-align: middle;\n",
       "    }\n",
       "\n",
       "    .dataframe tbody tr th {\n",
       "        vertical-align: top;\n",
       "    }\n",
       "\n",
       "    .dataframe thead th {\n",
       "        text-align: right;\n",
       "    }\n",
       "</style>\n",
       "<table border=\"1\" class=\"dataframe\">\n",
       "  <thead>\n",
       "    <tr style=\"text-align: right;\">\n",
       "      <th></th>\n",
       "      <th>location</th>\n",
       "      <th>HPs &amp; CAs</th>\n",
       "      <th>MS</th>\n",
       "      <th>Calcification</th>\n",
       "      <th>Total</th>\n",
       "    </tr>\n",
       "  </thead>\n",
       "  <tbody>\n",
       "    <tr>\n",
       "      <th>0</th>\n",
       "      <td>Heidelberg</td>\n",
       "      <td>78</td>\n",
       "      <td>73</td>\n",
       "      <td>78</td>\n",
       "      <td>813</td>\n",
       "    </tr>\n",
       "    <tr>\n",
       "      <th>1</th>\n",
       "      <td>Munich</td>\n",
       "      <td>30</td>\n",
       "      <td>0</td>\n",
       "      <td>20</td>\n",
       "      <td>1819</td>\n",
       "    </tr>\n",
       "    <tr>\n",
       "      <th>2</th>\n",
       "      <td>Muenster</td>\n",
       "      <td>27</td>\n",
       "      <td>20</td>\n",
       "      <td>0</td>\n",
       "      <td>3001</td>\n",
       "    </tr>\n",
       "    <tr>\n",
       "      <th>3</th>\n",
       "      <td>Goettingen</td>\n",
       "      <td>42</td>\n",
       "      <td>0</td>\n",
       "      <td>0</td>\n",
       "      <td>1829</td>\n",
       "    </tr>\n",
       "    <tr>\n",
       "      <th>4</th>\n",
       "      <td>Berlin</td>\n",
       "      <td>0</td>\n",
       "      <td>0</td>\n",
       "      <td>0</td>\n",
       "      <td>534</td>\n",
       "    </tr>\n",
       "    <tr>\n",
       "      <th>5</th>\n",
       "      <td>Frankfurt</td>\n",
       "      <td>20</td>\n",
       "      <td>0</td>\n",
       "      <td>20</td>\n",
       "      <td>42</td>\n",
       "    </tr>\n",
       "    <tr>\n",
       "      <th>6</th>\n",
       "      <td>Hamburg</td>\n",
       "      <td>34</td>\n",
       "      <td>23</td>\n",
       "      <td>0</td>\n",
       "      <td>60</td>\n",
       "    </tr>\n",
       "    <tr>\n",
       "      <th>7</th>\n",
       "      <td>Greifswald</td>\n",
       "      <td>25</td>\n",
       "      <td>0</td>\n",
       "      <td>0</td>\n",
       "      <td>26</td>\n",
       "    </tr>\n",
       "  </tbody>\n",
       "</table>\n",
       "</div>"
      ],
      "text/plain": [
       "     location  HPs & CAs  MS  Calcification  Total\n",
       "0  Heidelberg         78  73             78    813\n",
       "1      Munich         30   0             20   1819\n",
       "2    Muenster         27  20              0   3001\n",
       "3  Goettingen         42   0              0   1829\n",
       "4      Berlin          0   0              0    534\n",
       "5   Frankfurt         20   0             20     42\n",
       "6     Hamburg         34  23              0     60\n",
       "7  Greifswald         25   0              0     26"
      ]
     },
     "execution_count": 3,
     "metadata": {},
     "output_type": "execute_result"
    }
   ],
   "source": [
    "df = pd.DataFrame(cases).T\n",
    "df.location = df.index\n",
    "df.reset_index(inplace=True)\n",
    "df.rename(columns={'index': 'location'}, inplace=True)\n",
    "df"
   ]
  },
  {
   "cell_type": "code",
   "execution_count": 8,
   "metadata": {},
   "outputs": [
    {
     "data": {
      "image/png": "[encoded data removed]",
      "text/plain": [
       "<Figure size 1000x300 with 4 Axes>"
      ]
     },
     "metadata": {},
     "output_type": "display_data"
    }
   ],
   "source": [
    "fig, axs = plt.subplots(1,4, figsize=(10,3))\n",
    "for i, (ax, x) in enumerate(zip(axs, ['Total', 'HPs & CAs', 'MS', 'Calcification'])):\n",
    "    sns.barplot(df, y='location', x=x, ax=ax)\n",
    "    ax.set_ylabel(None)\n",
    "    ax.set_xlabel(None)\n",
    "    if i > 0:\n",
    "        ax.set_yticklabels([])\n",
    "        ax.set_xticks([0,25,50,75,100])\n",
    "    else:\n",
    "        ax.set_yticklabels([f'L{i+1}' for i in range(8)])\n",
    "        ax.set_xticks([0,1000,2000,3000,4000])\n",
    "    ax.bar_label(ax.containers[0], fontsize=10)\n",
    "    n_cases = df[x].sum()\n",
    "    if x == 'Total':\n",
    "        x = 'CT images'\n",
    "    if x == 'HPs & CAs':\n",
    "        x = 'HPs & COs'\n",
    "    ax.set_title(fr'{x} ($n={n_cases}$)')\n",
    "fig.tight_layout()\n",
    "fig.savefig('../images/label_distribution.pdf', bbox_inches='tight')"
   ]
  },
  {
   "cell_type": "code",
   "execution_count": 9,
   "metadata": {},
   "outputs": [],
   "source": [
    "loc_numbers = {\n",
    "    1: 'Heidelberg', 2: 'Munich', 3: 'Muenster', 4: 'Goettingen', 5: 'Berlin', 6: 'Frankfurt', 7: 'Hamburg', 8: 'Greifswald'\n",
    "}"
   ]
  },
  {
   "cell_type": "code",
   "execution_count": 37,
   "metadata": {},
   "outputs": [
    {
     "data": {
      "text/plain": [
       "[array([ 76, 114, 176], dtype=uint8),\n",
       " array([221, 132,  82], dtype=uint8),\n",
       " array([ 85, 168, 104], dtype=uint8),\n",
       " array([196,  78,  82], dtype=uint8)]"
      ]
     },
     "execution_count": 37,
     "metadata": {},
     "output_type": "execute_result"
    }
   ],
   "source": [
    "cp = sns.color_palette()\n",
    "#for c in cp:\n",
    "[np.round(np.array(c)*255).astype('uint8') for c in cp[:4]]"
   ]
  },
  {
   "cell_type": "code",
   "execution_count": null,
   "metadata": {},
   "outputs": [],
   "source": []
  }
 ],
 "metadata": {
  "kernelspec": {
   "display_name": "ftop",
   "language": "python",
   "name": "python3"
  },
  "language_info": {
   "codemirror_mode": {
    "name": "ipython",
    "version": 3
   },
   "file_extension": ".py",
   "mimetype": "text/x-python",
   "name": "python",
   "nbconvert_exporter": "python",
   "pygments_lexer": "ipython3",
   "version": "3.9.undefined"
  }
 },
 "nbformat": 4,
 "nbformat_minor": 2
}
